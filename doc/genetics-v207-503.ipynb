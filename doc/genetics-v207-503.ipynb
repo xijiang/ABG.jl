{
 "cells": [
  {
   "cell_type": "markdown",
   "metadata": {},
   "source": [
    "# Multi-population Genomic Relationships for Estimating Current Genetic Variances Within and Genetic Correlations Between Populations\n",
    "- Yvonne C. J. Wientjes, 1 Piter Bijma, Jérémie Vandenplas, and Mario P. L. Calus\n",
    "- Wageningen University and Research, Animal Breeding and Genomics, 6700 AH, The Netherlands\n",
    "- Genetics, Vol. 207, 503–515 October 2017\n",
    "- https://www.genetics.org/content/207/2/503"
   ]
  },
  {
   "cell_type": "markdown",
   "metadata": {},
   "source": [
    "## Background"
   ]
  },
  {
   "cell_type": "markdown",
   "metadata": {},
   "source": [
    "### Within family\n",
    "Let consider a population:\n",
    "- 3 ID. \n",
    "- 2 of them are half-sibs. \n",
    "- The 3rd one has no relationship with the other 2.\n",
    "\n",
    "Let's assume a pure additive model. Then each ID's performance is described as:\n",
    "\n",
    "$$y_i = \\mu + a_i + e_i$$\n",
    "\n",
    "Here, $a_i$ is the additive genetic value of ID $i$. It is **relative** to the population $\\mu$. This also why I introduced a 3rd ID. For simplicity, suppose \n",
    "- $a_i\\sim N(0, \\sigma_a^2)$ \n",
    "- $e_i\\stackrel{iid}{\\sim}N(0, \\sigma_e^2)$."
   ]
  },
  {
   "cell_type": "markdown",
   "metadata": {},
   "source": [
    "The population performance $\\mathbf{y}$ are described by:\n",
    "$$\\mathbf{y} = \\mu\\mathbf{1}+\\mathbf{a} + \\mathbf{e}$$\n",
    "\n",
    "where, \n",
    "- $\\mathbf{a}\\sim\\mathrm{MVN}(\\mathbf{0}, \\mathbf{A}\\sigma_a^2)$ \n",
    "- $\\mathbf{y}\\sim\\mathrm{MVN}(\\mu\\mathbf{1}, \\mathbf{A}\\sigma_a^2+\\mathbf{I}\\sigma_e^2)$"
   ]
  },
  {
   "cell_type": "markdown",
   "metadata": {},
   "source": [
    "The genetics variance $\\sigma_a^2$ is supposed that of the base population, where everybody is independent. To understand this, suppose that only offspring of one pair of parents are in the next generation. Then there are only the Medelian sampling errors of the parents left in the 2nd generation, which is $\\frac{\\sigma_a^2}{2}$. Generally speaking, because of the relationship among the offspring, and between generations, there is a loss of $\\hat{\\sigma_a^2}$ if we use the whole population to estimate it. It also varies due to pedigree structures. Hence it is not a good idea to use full pedigree to estimate $\\sigma_a^2$."
   ]
  },
  {
   "cell_type": "markdown",
   "metadata": {},
   "source": [
    "#### A simulation\n",
    "- 1000 biallelic QTL\n",
    "- Each allele $\\sim N(0, \\frac{\\sigma_a^2}{2000})$\n",
    "- Then the breeding value of an individual in such population $\\sim N(0, \\sigma_a^2)$"
   ]
  },
  {
   "cell_type": "code",
   "execution_count": 1,
   "metadata": {},
   "outputs": [
    {
     "data": {
      "text/plain": [
       "1000×2 Array{Float64,2}:\n",
       "  0.0169791     0.0136431\n",
       " -0.0286707    -0.0447071\n",
       " -0.00463207    0.0322337\n",
       "  0.0338529     0.00266735\n",
       " -0.0424684     0.00258173\n",
       " -0.0116561    -0.0267723\n",
       " -0.0198784    -0.0435269\n",
       "  0.00774475   -0.00295428\n",
       "  0.0133334     0.0395073\n",
       " -0.0170602    -0.00042506\n",
       " -0.0124335     0.0378103\n",
       "  0.00210147    0.00208018\n",
       " -0.0042451    -0.000110652\n",
       "  ⋮            \n",
       " -0.00257732   -0.00842402\n",
       "  0.00560178    0.0337774\n",
       "  0.0183797     0.000112447\n",
       " -0.0251201    -0.0102635\n",
       "  0.00476859    0.0394424\n",
       "  0.000451857   0.0208965\n",
       "  0.00220652   -0.0175038\n",
       " -0.00868579   -0.00114052\n",
       " -0.0283202    -0.0154668\n",
       "  0.0356941     0.0672055\n",
       " -0.0138451     0.0198354\n",
       " -0.00788938    0.0129375"
      ]
     },
     "execution_count": 1,
     "metadata": {},
     "output_type": "execute_result"
    }
   ],
   "source": [
    "nlc = 1000\n",
    "nid = 1000\n",
    "qtl = randn(nlc, 2) ./sqrt(2nlc)\n",
    "gt = zeros(2, nlc, nid)"
   ]
  },
  {
   "cell_type": "code",
   "execution_count": null,
   "metadata": {},
   "outputs": [],
   "source": []
  }
 ],
 "metadata": {
  "kernelspec": {
   "display_name": "Julia 1.6.0-DEV",
   "language": "julia",
   "name": "julia-1.6"
  },
  "language_info": {
   "file_extension": ".jl",
   "mimetype": "application/julia",
   "name": "julia",
   "version": "1.6.0"
  }
 },
 "nbformat": 4,
 "nbformat_minor": 4
}
