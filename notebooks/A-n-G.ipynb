{
 "cells": [
  {
   "cell_type": "markdown",
   "metadata": {},
   "source": [
    "# G matrix calculation\n",
    "## From plink files\n",
    "You can directly calculate $\\mathbf{G}$ from `plink` files:\n",
    "```julia\n",
    "using ABG\n",
    "# e.g., your files are in plink.{bed,bim,fam}\n",
    "G = ABG.plink_2_vr_I(\"plink\")\n",
    "```\n",
    "Results are then stored in G matrix.  Be sure to put `plink` in a visible path, e.g., `~/bin`, `~/.local/bin`.\n",
    "## Big M\n",
    "If the genotyping platform is very dense, e.g., HD 777k for cattle, then it may be difficult to fit all genotypes at all in computer memory. \n",
    "In this case, you can calculate $\\mathbf{G}$ [block by block](https://github.com/xijiang/ABG.jl/blob/master/notebooks/Big%20M.md)."
   ]
  },
  {
   "cell_type": "markdown",
   "metadata": {},
   "source": [
    "# A matrix calculation\n",
    "This session provides 3 functions.\n",
    "\n",
    "## $\\mathbf{A}^{-1}$\n",
    "```julia\n",
    "ai = ABG.A_inverse(pedigree)\n",
    "```\n",
    "The better side of Julia is the results are just stored in a sparse matrix.\n",
    "It can can thus deal with a pedigree of millions of ID.\n",
    "The recursive C++ backend also enable it to finish the calculation fast.\n",
    "E.g., it takes one/two hours to obtain a $\\mathbf{A}^{-1}$ of 9-M pedigree.\n",
    "\n",
    "## $\\mathbf{F}$, inbreeding coefficients\n",
    "To calculate IC of all ID in a pedigree:\n",
    "```julia\n",
    "ic = ABG.inbreeding_coeffcient(pedigree)\n",
    "```\n",
    "\n",
    "## $\\mathbf{A}$-matrix\n",
    "To calculate relationships of a `list` of ID in a `pedigree`:\n",
    "```julia\n",
    "_, A = ABG.A_matrix(pedigree, list)\n",
    "```"
   ]
  }
 ],
 "metadata": {
  "kernelspec": {
   "display_name": "Julia 1.6.0-DEV",
   "language": "julia",
   "name": "julia-1.6"
  },
  "language_info": {
   "file_extension": ".jl",
   "mimetype": "application/julia",
   "name": "julia",
   "version": "1.6.0"
  }
 },
 "nbformat": 4,
 "nbformat_minor": 4
}
