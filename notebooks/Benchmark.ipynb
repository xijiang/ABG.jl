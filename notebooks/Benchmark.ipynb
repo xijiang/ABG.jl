{
 "cells": [
  {
   "cell_type": "markdown",
   "metadata": {},
   "source": [
    "# Benchmark of different methods and languages\n",
    "\n",
    "Say:\n",
    "\n",
    "$$\\mathrm{sum}(a) = \\Sigma_{i=1}^na_i$$\n",
    "\n",
    "where $n$ is the length of vector $\\mathbf{a}$."
   ]
  },
  {
   "cell_type": "code",
   "execution_count": 1,
   "metadata": {},
   "outputs": [
    {
     "data": {
      "text/plain": [
       "4.998132558111681e6"
      ]
     },
     "execution_count": 1,
     "metadata": {},
     "output_type": "execute_result"
    }
   ],
   "source": [
    "n = 10_000_000\n",
    "a = rand(n)\n",
    "sum(a)"
   ]
  },
  {
   "cell_type": "code",
   "execution_count": 2,
   "metadata": {},
   "outputs": [
    {
     "name": "stdout",
     "output_type": "stream",
     "text": [
      "  0.004384 seconds (1 allocation: 16 bytes)\n"
     ]
    },
    {
     "data": {
      "text/plain": [
       "4.998132558111681e6"
      ]
     },
     "execution_count": 2,
     "metadata": {},
     "output_type": "execute_result"
    }
   ],
   "source": [
    "@time sum(a)  # usually you should run several times to have a stable time usage.\n",
    "# That's why it is better to use package BenchmarkTools "
   ]
  },
  {
   "cell_type": "code",
   "execution_count": 3,
   "metadata": {},
   "outputs": [
    {
     "data": {
      "text/plain": [
       "BenchmarkTools.Trial: \n",
       "  memory estimate:  0 bytes\n",
       "  allocs estimate:  0\n",
       "  --------------\n",
       "  minimum time:     2.928 ms (0.00% GC)\n",
       "  median time:      3.069 ms (0.00% GC)\n",
       "  mean time:        3.054 ms (0.00% GC)\n",
       "  maximum time:     4.248 ms (0.00% GC)\n",
       "  --------------\n",
       "  samples:          1637\n",
       "  evals/sample:     1"
      ]
     },
     "execution_count": 3,
     "metadata": {},
     "output_type": "execute_result"
    }
   ],
   "source": [
    "using BenchmarkTools\n",
    "@benchmark sum($a)"
   ]
  },
  {
   "cell_type": "markdown",
   "metadata": {},
   "source": [
    "## 1. Julia Built-in"
   ]
  },
  {
   "cell_type": "code",
   "execution_count": 4,
   "metadata": {},
   "outputs": [
    {
     "data": {
      "text/html": [
       "sum(a::<b>AbstractArray</b>; <i>dims, kw...</i>) in Base at <a href=\"https://github.com/JuliaLang/julia/tree/6185d24ac34a6b586ce6894b39a537cd333f9364/base/reducedim.jl#L719\" target=\"_blank\">reducedim.jl:719</a>"
      ],
      "text/plain": [
       "sum(a::AbstractArray; dims, kw...) in Base at reducedim.jl:719"
      ]
     },
     "execution_count": 4,
     "metadata": {},
     "output_type": "execute_result"
    }
   ],
   "source": [
    "@which sum(a)"
   ]
  },
  {
   "cell_type": "code",
   "execution_count": 5,
   "metadata": {},
   "outputs": [
    {
     "data": {
      "text/plain": [
       "Dict{Any,Any} with 1 entry:\n",
       "  \"Julia built-in\" => 2.96003"
      ]
     },
     "execution_count": 5,
     "metadata": {},
     "output_type": "execute_result"
    }
   ],
   "source": [
    "# Note there is a link in the result of above cell.\n",
    "# One can follow the link to learn Julia programming, by watching how others program.\n",
    "d = Dict()\n",
    "j_bench = @benchmark sum($a)\n",
    "d[\"Julia built-in\"] = minimum(j_bench.times)/1e6\n",
    "d"
   ]
  },
  {
   "cell_type": "markdown",
   "metadata": {},
   "source": [
    "## 2. Julia (hand-written)"
   ]
  },
  {
   "cell_type": "code",
   "execution_count": 6,
   "metadata": {},
   "outputs": [
    {
     "data": {
      "text/plain": [
       "mysum (generic function with 1 method)"
      ]
     },
     "execution_count": 6,
     "metadata": {},
     "output_type": "execute_result"
    }
   ],
   "source": [
    "function mysum(A)\n",
    "    s = 0.\n",
    "    for a in A\n",
    "        s += a\n",
    "    end\n",
    "    return s\n",
    "end"
   ]
  },
  {
   "cell_type": "code",
   "execution_count": 8,
   "metadata": {},
   "outputs": [
    {
     "data": {
      "text/plain": [
       "7.181222"
      ]
     },
     "execution_count": 8,
     "metadata": {},
     "output_type": "execute_result"
    }
   ],
   "source": [
    "j_bench_hand = @benchmark mysum($a)\n",
    "d[\"Julia hand-written\"] = minimum(j_bench_hand.times) / 1e6"
   ]
  },
  {
   "cell_type": "markdown",
   "metadata": {},
   "source": [
    "Above, the hand-written function, is about 2x slower than the built-in funciton.\n",
    "\n",
    "## 3. The C language"
   ]
  },
  {
   "cell_type": "code",
   "execution_count": 9,
   "metadata": {},
   "outputs": [
    {
     "data": {
      "text/plain": [
       "c_sum (generic function with 1 method)"
      ]
     },
     "execution_count": 9,
     "metadata": {},
     "output_type": "execute_result"
    }
   ],
   "source": [
    "using Libdl\n",
    "C_code = \"\"\"\n",
    "    #include <stddef.h>\n",
    "    double c_sum(size_t n, double *X){\n",
    "        double s = 0.;\n",
    "        for(size_t i=0; i<n; ++i){\n",
    "            s += X[i];\n",
    "        }\n",
    "        return s;\n",
    "    }\n",
    "\"\"\"\n",
    "const Clib = tempname()\n",
    "# compile to a shared library by piping c_code to gcc\n",
    "open(`gcc -fPIC -O3 -mavx2 -xc -shared -o $(Clib * \".\" * Libdl.dlext) -`, \"w\") do f\n",
    "    print(f, C_code)\n",
    "end\n",
    "c_sum(X::Array{Float64}) = ccall((\"c_sum\", Clib), Float64, (Csize_t, Ptr{Float64}), length(X), X)"
   ]
  },
  {
   "cell_type": "code",
   "execution_count": 10,
   "metadata": {},
   "outputs": [
    {
     "data": {
      "text/plain": [
       "true"
      ]
     },
     "execution_count": 10,
     "metadata": {},
     "output_type": "execute_result"
    }
   ],
   "source": [
    "c_sum(a) ≈ sum(a) # note here it is a \\approx(≈) not =, for round error reason."
   ]
  },
  {
   "cell_type": "code",
   "execution_count": 11,
   "metadata": {},
   "outputs": [
    {
     "data": {
      "text/plain": [
       "6.925192"
      ]
     },
     "execution_count": 11,
     "metadata": {},
     "output_type": "execute_result"
    }
   ],
   "source": [
    "c_bench = @benchmark c_sum($a)\n",
    "d[\"C\"] = minimum(c_bench.times) / 1e6"
   ]
  },
  {
   "cell_type": "markdown",
   "metadata": {},
   "source": [
    "## 4. Python's built in sum\n",
    "The `PyCall` package provides a Julia interface to Python"
   ]
  },
  {
   "cell_type": "code",
   "execution_count": 12,
   "metadata": {},
   "outputs": [],
   "source": [
    "using PyCall"
   ]
  },
  {
   "cell_type": "code",
   "execution_count": 15,
   "metadata": {},
   "outputs": [
    {
     "name": "stdout",
     "output_type": "stream",
     "text": [
      "true\n"
     ]
    },
    {
     "data": {
      "text/plain": [
       "1523.649625"
      ]
     },
     "execution_count": 15,
     "metadata": {},
     "output_type": "execute_result"
    }
   ],
   "source": [
    "pysum = pybuiltin(\"sum\")\n",
    "py_list_bench = @benchmark $pysum($a)\n",
    "println(pysum(a) ≈ sum(a))\n",
    "d[\"Python built-in\"] = minimum(py_list_bench.times) / 1e6"
   ]
  },
  {
   "cell_type": "markdown",
   "metadata": {},
   "source": [
    "## 5. Python: `numpy`"
   ]
  },
  {
   "cell_type": "code",
   "execution_count": 16,
   "metadata": {},
   "outputs": [
    {
     "data": {
      "text/plain": [
       "3.385263"
      ]
     },
     "execution_count": 16,
     "metadata": {},
     "output_type": "execute_result"
    }
   ],
   "source": [
    "numpy_sum = pyimport(\"numpy\")[\"sum\"]\n",
    "py_numpy_bench = @benchmark $numpy_sum($a)\n",
    "d[\"Python numpy\"] = minimum(py_numpy_bench.times) / 1e6"
   ]
  },
  {
   "cell_type": "markdown",
   "metadata": {},
   "source": [
    "## 6. Python, hand-written"
   ]
  },
  {
   "cell_type": "code",
   "execution_count": 17,
   "metadata": {},
   "outputs": [
    {
     "data": {
      "text/plain": [
       "PyObject <function py_sum at 0x7f58e9aa1af0>"
      ]
     },
     "execution_count": 17,
     "metadata": {},
     "output_type": "execute_result"
    }
   ],
   "source": [
    "py\"\"\"\n",
    "def py_sum(A):\n",
    "    s = 0.\n",
    "    for a in A:\n",
    "        s += a\n",
    "    return s\n",
    "\"\"\"\n",
    "sum_py = py\"py_sum\""
   ]
  },
  {
   "cell_type": "code",
   "execution_count": 18,
   "metadata": {},
   "outputs": [
    {
     "data": {
      "text/plain": [
       "1746.412078"
      ]
     },
     "execution_count": 18,
     "metadata": {},
     "output_type": "execute_result"
    }
   ],
   "source": [
    "py_hand = @benchmark $sum_py($a)\n",
    "d[\"Python hand-written\"] = minimum(py_hand.times) / 1e6"
   ]
  },
  {
   "cell_type": "markdown",
   "metadata": {},
   "source": [
    "## Summary so far"
   ]
  },
  {
   "cell_type": "code",
   "execution_count": 21,
   "metadata": {},
   "outputs": [
    {
     "name": "stdout",
     "output_type": "stream",
     "text": [
      "Julia built-in..............3.0\n",
      "Python numpy................3.4\n",
      "C...........................6.9\n",
      "Julia hand-written..........7.2\n",
      "Python built-in..........1523.6\n",
      "Python hand-written......1746.4\n"
     ]
    }
   ],
   "source": [
    "for (key, value) in sort(collect(d), by=last)\n",
    "    println(rpad(key, 25, '.'), lpad(round(value; digits=1), 6, '.'))\n",
    "end"
   ]
  },
  {
   "cell_type": "markdown",
   "metadata": {},
   "source": [
    "## Exploiting parallelism with Julia\n",
    "Why hand written Julia codes are 2x slower?\n",
    "## 7. Julia (allowing floating point associativity)"
   ]
  },
  {
   "cell_type": "code",
   "execution_count": 22,
   "metadata": {},
   "outputs": [
    {
     "data": {
      "text/plain": [
       "mysum_fast (generic function with 1 method)"
      ]
     },
     "execution_count": 22,
     "metadata": {},
     "output_type": "execute_result"
    }
   ],
   "source": [
    "function mysum_fast(A)\n",
    "    s = 0.\n",
    "    for a in A\n",
    "        @fastmath s += a\n",
    "    end\n",
    "    return s\n",
    "end"
   ]
  },
  {
   "cell_type": "code",
   "execution_count": 23,
   "metadata": {},
   "outputs": [
    {
     "data": {
      "text/plain": [
       "2.729371"
      ]
     },
     "execution_count": 23,
     "metadata": {},
     "output_type": "execute_result"
    }
   ],
   "source": [
    "j_bench_hand_fast = @benchmark mysum_fast($a)\n",
    "d[\"Julia hand-written fast\"] = minimum(j_bench_hand_fast.times) / 1e6"
   ]
  },
  {
   "cell_type": "markdown",
   "metadata": {},
   "source": [
    "## 8. Distributed Julia (built-in)\n",
    "or, using more threads."
   ]
  },
  {
   "cell_type": "code",
   "execution_count": 24,
   "metadata": {},
   "outputs": [
    {
     "name": "stderr",
     "output_type": "stream",
     "text": [
      "┌ Info: Precompiling DistributedArrays [aaf54ef3-cdf8-58ed-94cc-d582ad619b94]\n",
      "└ @ Base loading.jl:1323\n"
     ]
    }
   ],
   "source": [
    "using Distributed\n",
    "using DistributedArrays\n",
    "addprocs(4) # plus the current one, there will have 5 threads available\n",
    "#@sync @everywhere workers() include(\"path-to-julia/etc/startup.jl\")\n",
    "@everywhere using DistributedArrays"
   ]
  },
  {
   "cell_type": "code",
   "execution_count": 25,
   "metadata": {},
   "outputs": [
    {
     "data": {
      "text/plain": [
       "1.487888"
      ]
     },
     "execution_count": 25,
     "metadata": {},
     "output_type": "execute_result"
    }
   ],
   "source": [
    "adist = distribute(a)\n",
    "j_bench_dist = @benchmark sum($adist)\n",
    "d[\"Julia 4x built-in\"] = minimum(j_bench_dist.times) / 1e6"
   ]
  },
  {
   "cell_type": "markdown",
   "metadata": {},
   "source": [
    "## 9. Distributed Julia (hand-written)\n",
    "you can see more clear how parallel sum works on the same array."
   ]
  },
  {
   "cell_type": "code",
   "execution_count": 26,
   "metadata": {},
   "outputs": [
    {
     "data": {
      "text/plain": [
       "mysum_dist (generic function with 1 method)"
      ]
     },
     "execution_count": 26,
     "metadata": {},
     "output_type": "execute_result"
    }
   ],
   "source": [
    "function mysum_dist(a::DArray)\n",
    "    r = Array{Future}(undef, length(procs(a)))\n",
    "    for (i, id) in enumerate(procs(a))\n",
    "        r[i] = @spawnat id sum(localpart(a))\n",
    "    end\n",
    "    return sum(fetch.(r))\n",
    "end"
   ]
  },
  {
   "cell_type": "code",
   "execution_count": 27,
   "metadata": {},
   "outputs": [
    {
     "data": {
      "text/plain": [
       "1.561696"
      ]
     },
     "execution_count": 27,
     "metadata": {},
     "output_type": "execute_result"
    }
   ],
   "source": [
    "j_bench_hand_dist = @benchmark mysum_dist($adist)\n",
    "d[\"Julia 4x hand-written\"] = minimum(j_bench_hand_dist.times) / 1e6"
   ]
  },
  {
   "cell_type": "markdown",
   "metadata": {},
   "source": [
    "## Overall Summary\n",
    "We can't see some 4x faster results is maybe because the CPU is already very fast.  Therefore, the overhead to load the code into CPU played a big part."
   ]
  },
  {
   "cell_type": "code",
   "execution_count": 28,
   "metadata": {},
   "outputs": [
    {
     "name": "stdout",
     "output_type": "stream",
     "text": [
      "Julia 4x built-in...........1.5\n",
      "Julia 4x hand-written.......1.6\n",
      "Julia hand-written fast.....2.7\n",
      "Julia built-in..............3.0\n",
      "Python numpy................3.4\n",
      "C...........................6.9\n",
      "Julia hand-written..........7.2\n",
      "Python built-in..........1523.6\n",
      "Python hand-written......1746.4\n"
     ]
    }
   ],
   "source": [
    "for (key, value) in sort(collect(d), by=last)\n",
    "    println(rpad(key, 25, '.'), lpad(round(value; digits=1), 6, '.'))\n",
    "end"
   ]
  }
 ],
 "metadata": {
  "kernelspec": {
   "display_name": "Julia 1.6.0-DEV",
   "language": "julia",
   "name": "julia-1.6"
  },
  "language_info": {
   "file_extension": ".jl",
   "mimetype": "application/julia",
   "name": "julia",
   "version": "1.6.0"
  }
 },
 "nbformat": 4,
 "nbformat_minor": 4
}
